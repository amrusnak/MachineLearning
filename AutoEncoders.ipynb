{
 "cells": [
  {
   "cell_type": "code",
   "execution_count": 5,
   "metadata": {},
   "outputs": [],
   "source": [
    "import numpy.random as rnd\n",
    "import numpy as np\n",
    "import os\n",
    "import sys\n",
    "\n",
    "def reset_graph(seed=42):\n",
    "    tf.reset_default_graph()\n",
    "    tf.set_random_seed(seed)\n",
    "    np.random.seed(seed)\n",
    "    \n",
    "%matplotlib inline\n",
    "import matplotlib\n",
    "import matplotlib.pyplot as plt\n",
    "plt.rcParams['axes.labelsize'] = 14\n",
    "plt.rcParams['xtick.labelsize'] = 12\n",
    "plt.rcParams['ytick.labelsize'] = 12"
   ]
  },
  {
   "cell_type": "code",
   "execution_count": 6,
   "metadata": {},
   "outputs": [],
   "source": [
    "#for plotting generated images (will be used later in notebook)\n",
    "def plot_image(image, shape=[28, 28]):\n",
    "    plt.imshow(image.reshape(shape), cmap=\"Greys\", interpolation=\"nearest\")\n",
    "    plt.axis(\"off\")\n",
    "\n",
    "def plot_multiple_images(images, n_rows, n_cols, pad=2):\n",
    "    images = images - images.min()  # make the minimum == 0, so the padding looks white\n",
    "    w,h = images.shape[1:]\n",
    "    image = np.zeros(((w+pad)*n_rows+pad, (h+pad)*n_cols+pad))\n",
    "    for y in range(n_rows):\n",
    "        for x in range(n_cols):\n",
    "            image[(y*(h+pad)+pad):(y*(h+pad)+pad+h),(x*(w+pad)+pad):(x*(w+pad)+pad+w)] = images[y*n_cols+x]\n",
    "    plt.imshow(image, cmap=\"Greys\", interpolation=\"nearest\")\n",
    "    plt.axis(\"off\")\n"
   ]
  },
  {
   "cell_type": "code",
   "execution_count": 7,
   "metadata": {},
   "outputs": [],
   "source": [
    "#using an autoencoder for Principal Component Analysis\n",
    "#because the model learns an lower dimensional internal state but outputs a larger tensor (size of input), it must learn\n",
    "#the important features\n",
    "\n",
    "#build 3d dataset\n",
    "rnd.seed(4)\n",
    "m = 200\n",
    "w1, w2 = 0.1, 0.3\n",
    "noise = 0.1\n",
    "\n",
    "angles = rnd.rand(m) * 3 * np.pi / 2 - 0.5\n",
    "data= np.empty((m, 3))\n",
    "data[:, 0] = np.cos(angles) + np.sin(angles)/2 + noise * rnd.randn(m) / 2\n",
    "data[:, 1] = np.sin(angles) * 0.7 + noise * rnd.randn(m) / 2\n",
    "data[:, 2] = data[:, 0] * w1 + data[:, 1] * w2 + noise * rnd.randn(m)"
   ]
  },
  {
   "cell_type": "code",
   "execution_count": 8,
   "metadata": {},
   "outputs": [],
   "source": [
    "from sklearn.preprocessing import StandardScaler\n",
    "scaler = StandardScaler()\n",
    "X_train = scaler.fit_transform(data[:100])\n",
    "X_test = scaler.transform(data[100:])"
   ]
  },
  {
   "cell_type": "code",
   "execution_count": 9,
   "metadata": {},
   "outputs": [],
   "source": [
    "import tensorflow as tf\n",
    "\n",
    "reset_graph()\n",
    "\n",
    "n_inputs = 3\n",
    "n_hidden = 2\n",
    "n_outputs = n_inputs\n",
    "\n",
    "learning_rate = 0.01\n",
    "\n",
    "X = tf.placeholder(tf.float32, shape=[None, n_inputs])\n",
    "hidden = tf.layers.dense(X, n_hidden)\n",
    "outputs = tf.layers.dense(hidden, n_outputs)\n",
    "\n",
    "reconstruction_loss = tf.reduce_mean(tf.square(outputs - X))\n",
    "\n",
    "optimizer = tf.train.AdamOptimizer(learning_rate)\n",
    "training_op = optimizer.minimize(reconstruction_loss)\n",
    "\n",
    "init = tf.global_variables_initializer()\n",
    "n_iterations = 100 \n",
    "codings = hidden\n"
   ]
  },
  {
   "cell_type": "code",
   "execution_count": 12,
   "metadata": {},
   "outputs": [],
   "source": [
    "with tf.Session() as sess:\n",
    "    init.run()\n",
    "    for iteration in range (n_iterations):\n",
    "        training_op.run(feed_dict={X:X_train})\n",
    "        \n",
    "    codings_val = codings.eval(feed_dict={X: X_test})"
   ]
  },
  {
   "cell_type": "code",
   "execution_count": 13,
   "metadata": {},
   "outputs": [
    {
     "data": {
      "image/png": "[encoded data removed]",
      "text/plain": [
       "<Figure size 288x216 with 1 Axes>"
      ]
     },
     "metadata": {},
     "output_type": "display_data"
    }
   ],
   "source": [
    "fig = plt.figure(figsize=(4,3))\n",
    "plt.plot(codings_val[:,0], codings_val[:, 1], \"b.\")\n",
    "plt.xlabel(\"$z_1$\", fontsize=18)\n",
    "plt.ylabel(\"$z_2$\", fontsize=18, rotation=0)\n",
    "plt.show()"
   ]
  },
  {
   "cell_type": "code",
   "execution_count": 14,
   "metadata": {},
   "outputs": [
    {
     "name": "stdout",
     "output_type": "stream",
     "text": [
      "WARNING:tensorflow:From <ipython-input-14-c50d5bb4a85c>:2: read_data_sets (from tensorflow.contrib.learn.python.learn.datasets.mnist) is deprecated and will be removed in a future version.\n",
      "Instructions for updating:\n",
      "Please use alternatives such as official/mnist/dataset.py from tensorflow/models.\n",
      "WARNING:tensorflow:From /Library/Frameworks/Python.framework/Versions/3.6/lib/python3.6/site-packages/tensorflow/contrib/learn/python/learn/datasets/mnist.py:260: maybe_download (from tensorflow.contrib.learn.python.learn.datasets.base) is deprecated and will be removed in a future version.\n",
      "Instructions for updating:\n",
      "Please write your own downloading logic.\n",
      "WARNING:tensorflow:From /Library/Frameworks/Python.framework/Versions/3.6/lib/python3.6/site-packages/tensorflow/contrib/learn/python/learn/datasets/mnist.py:262: extract_images (from tensorflow.contrib.learn.python.learn.datasets.mnist) is deprecated and will be removed in a future version.\n",
      "Instructions for updating:\n",
      "Please use tf.data to implement this functionality.\n",
      "Extracting /tmp/data/train-images-idx3-ubyte.gz\n",
      "WARNING:tensorflow:From /Library/Frameworks/Python.framework/Versions/3.6/lib/python3.6/site-packages/tensorflow/contrib/learn/python/learn/datasets/mnist.py:267: extract_labels (from tensorflow.contrib.learn.python.learn.datasets.mnist) is deprecated and will be removed in a future version.\n",
      "Instructions for updating:\n",
      "Please use tf.data to implement this functionality.\n",
      "Extracting /tmp/data/train-labels-idx1-ubyte.gz\n",
      "Extracting /tmp/data/t10k-images-idx3-ubyte.gz\n",
      "Extracting /tmp/data/t10k-labels-idx1-ubyte.gz\n",
      "WARNING:tensorflow:From /Library/Frameworks/Python.framework/Versions/3.6/lib/python3.6/site-packages/tensorflow/contrib/learn/python/learn/datasets/mnist.py:290: DataSet.__init__ (from tensorflow.contrib.learn.python.learn.datasets.mnist) is deprecated and will be removed in a future version.\n",
      "Instructions for updating:\n",
      "Please use alternatives such as official/mnist/dataset.py from tensorflow/models.\n"
     ]
    }
   ],
   "source": [
    "from tensorflow.examples.tutorials.mnist import input_data\n",
    "mnist = input_data.read_data_sets(\"/tmp/data/\")"
   ]
  },
  {
   "cell_type": "code",
   "execution_count": 28,
   "metadata": {},
   "outputs": [],
   "source": [
    "#stacked autoencoder - similar construction as regular DNNS\n",
    "\n",
    "reset_graph()\n",
    "\n",
    "from functools import partial \n",
    "\n",
    "n_inputs = 28 * 28\n",
    "n_hidden1 = 300\n",
    "n_hidden2 = 150 #codings layer\n",
    "n_hidden3 = 300\n",
    "n_outputs = n_inputs\n",
    "\n",
    "learning_rate = 0.01\n",
    "l2_reg = 0.0001\n",
    "\n",
    "X = tf.placeholder(tf.float32, shape=[None, n_inputs])\n",
    "\n",
    "he_init =  tf.contrib.layers.variance_scaling_initializer()\n",
    "l2_regularizer = tf.contrib.layers.l2_regularizer(l2_reg)\n",
    "\n",
    "dense_layer = partial(tf.layers.dense, activation=tf.nn.elu, kernel_initializer=he_init, kernel_regularizer=l2_regularizer)\n",
    "\n",
    "with tf.name_scope(\"Autoencoder_dnn\"):\n",
    "    hidden1 = dense_layer(X, n_hidden1)\n",
    "    hidden2 = dense_layer(hidden1, n_hidden2)\n",
    "    hidden3 = dense_layer(hidden2, n_hidden3)\n",
    "    outputs = dense_layer(hidden3, n_outputs, activation=None)\n",
    "    \n",
    "with tf.name_scope(\"loss\"):\n",
    "    reconstruction_loss = tf.reduce_mean(tf.square(outputs - X))\n",
    "    \n",
    "    reg_losses = tf.get_collection(tf.GraphKeys.REGULARIZATION_LOSSES)\n",
    "    loss = tf.add_n([reconstruction_loss] + reg_losses)\n",
    "    \n",
    "with tf.name_scope(\"train\"):\n",
    "    optimizer = tf.train.AdamOptimizer(learning_rate)\n",
    "    training_op = optimizer.minimize(loss)\n",
    "    \n",
    "    \n",
    "init = tf.global_variables_initializer()\n",
    "saver = tf.train.Saver()\n",
    "n_epochs = 5\n",
    "batch_size = 150\n"
   ]
  },
  {
   "cell_type": "code",
   "execution_count": 29,
   "metadata": {},
   "outputs": [
    {
     "name": "stdout",
     "output_type": "stream",
     "text": [
      "0 Train MSE: 0.024103638\n",
      "1 Train MSE: 0.013435125\n",
      "2 Train MSE: 0.010993243\n",
      "3 Train MSE: 0.010324679\n",
      "4 Train MSE: 0.009631201\n"
     ]
    }
   ],
   "source": [
    "with tf.Session() as sess:\n",
    "    init.run()\n",
    "    for epoch in range(n_epochs):\n",
    "        n_batches = mnist.train.num_examples // batch_size\n",
    "        for iteration in range(n_batches):\n",
    "            print(\"\\r{}%\".format(100 * iteration // n_batches), end=\"\")\n",
    "            sys.stdout.flush()\n",
    "            X_batch, y_batch = mnist.train.next_batch(batch_size)\n",
    "            sess.run(training_op, feed_dict={X: X_batch})\n",
    "        loss_train = reconstruction_loss.eval(feed_dict={X:X_batch})\n",
    "        print(\"\\r{}\".format(epoch), \"Train MSE:\", loss_train)           # not shown\n",
    "        saver.save(sess, \"./AutoEncoder.ckpt\")                  "
   ]
  },
  {
   "cell_type": "code",
   "execution_count": 30,
   "metadata": {},
   "outputs": [],
   "source": [
    "def show_reconstructed_digits(X, outputs, model_path = None, n_test_digits = 2):\n",
    "    with tf.Session() as sess:\n",
    "        if model_path:\n",
    "            saver.restore(sess, model_path)\n",
    "        X_test = mnist.test.images[:n_test_digits]\n",
    "        outputs_val = outputs.eval(feed_dict={X: X_test})\n",
    "\n",
    "    fig = plt.figure(figsize=(8, 3 * n_test_digits))\n",
    "    for digit_index in range(n_test_digits):\n",
    "        plt.subplot(n_test_digits, 2, digit_index * 2 + 1)\n",
    "        plot_image(X_test[digit_index])\n",
    "        plt.subplot(n_test_digits, 2, digit_index * 2 + 2)\n",
    "        plot_image(outputs_val[digit_index])"
   ]
  },
  {
   "cell_type": "code",
   "execution_count": 31,
   "metadata": {},
   "outputs": [
    {
     "name": "stdout",
     "output_type": "stream",
     "text": [
      "INFO:tensorflow:Restoring parameters from ./AutoEncoder.ckpt\n"
     ]
    },
    {
     "data": {
      "image/png": "[encoded data removed]",
      "text/plain": [
       "<Figure size 576x432 with 4 Axes>"
      ]
     },
     "metadata": {},
     "output_type": "display_data"
    }
   ],
   "source": [
    "file_writer= tf.summary.FileWriter(\"tf_logs/AutoEncoder\", tf.get_default_graph())\n",
    "show_reconstructed_digits(X, outputs, \"./AutoEncoder.ckpt\")"
   ]
  },
  {
   "cell_type": "code",
   "execution_count": 32,
   "metadata": {},
   "outputs": [],
   "source": [
    "#tying the weights of the encoder/decoder layers together is a common practice to increase speed/ reduce overfitting\n",
    "\n",
    "reset_graph()\n",
    "\n",
    "n_inputs = 28 * 28\n",
    "n_hidden1 = 300\n",
    "n_hidden2 = 150\n",
    "n_hidden3 = n_hidden1\n",
    "n_outputs = n_inputs\n",
    "\n",
    "learning_rate = 0.01\n",
    "l2_reg = 0.0005\n",
    "\n",
    "activation = tf.nn.relu\n",
    "regularizer = tf.contrib.layers.l2_regularizer(l2_reg)\n",
    "initializer = tf.contrib.layers.variance_scaling_initializer()\n",
    "\n",
    "X = tf.placeholder(tf.float32, shape=[None, n_inputs])"
   ]
  },
  {
   "cell_type": "code",
   "execution_count": 41,
   "metadata": {},
   "outputs": [],
   "source": [
    "#this is rather verbose but can make a big difference for large datasets\n",
    "\n",
    "X = tf.placeholder(tf.float32, shape=[None, n_inputs])\n",
    "\n",
    "weights1_init = initializer([n_inputs, n_hidden1])\n",
    "weights2_init = initializer([n_hidden1, n_hidden2])\n",
    "\n",
    "weights1 = tf.Variable(weights1_init, dtype=tf.float32, name=\"weights1\")\n",
    "weights2 = tf.Variable(weights2_init, dtype=tf.float32, name=\"weights2\")\n",
    "weights3 = tf.transpose(weights2, name=\"weights3\")  # tied weights\n",
    "weights4 = tf.transpose(weights1, name=\"weights4\")  # tied weights\n",
    "\n",
    "biases1 = tf.Variable(tf.zeros(n_hidden1), name=\"biases1\")\n",
    "biases2 = tf.Variable(tf.zeros(n_hidden2), name=\"biases2\")\n",
    "biases3 = tf.Variable(tf.zeros(n_hidden3), name=\"biases3\")\n",
    "biases4 = tf.Variable(tf.zeros(n_outputs), name=\"biases4\")\n",
    "\n",
    "hidden1 = activation(tf.matmul(X, weights1) + biases1)\n",
    "hidden2 = activation(tf.matmul(hidden1, weights2) + biases2)\n",
    "hidden3 = activation(tf.matmul(hidden2, weights3) + biases3)\n",
    "outputs = tf.matmul(hidden3, weights4) + biases4\n",
    "\n",
    "reconstruction_loss = tf.reduce_mean(tf.square(outputs - X))\n",
    "reg_loss = regularizer(weights1) + regularizer(weights2)\n",
    "loss = reconstruction_loss + reg_loss\n",
    "\n",
    "optimizer = tf.train.AdamOptimizer(learning_rate)\n",
    "training_op = optimizer.minimize(loss)\n",
    "\n",
    "init = tf.global_variables_initializer()\n",
    "init = tf.global_variables_initializer()\n",
    "\n",
    "saver= tf.train.Saver()\n",
    "\n",
    "n_epochs=10\n",
    "batch_size=150"
   ]
  },
  {
   "cell_type": "code",
   "execution_count": 42,
   "metadata": {},
   "outputs": [
    {
     "name": "stdout",
     "output_type": "stream",
     "text": [
      "0 Train MSE: 0.032421026\n",
      "1 Train MSE: 0.028348109\n",
      "2 Train MSE: 0.026844747\n",
      "3 Train MSE: 0.02681761\n",
      "4 Train MSE: 0.027302021\n",
      "5 Train MSE: 0.027280593\n",
      "6 Train MSE: 0.025982508\n",
      "7 Train MSE: 0.025065375\n",
      "8 Train MSE: 0.024845198\n",
      "9 Train MSE: 0.026249574\n"
     ]
    }
   ],
   "source": [
    "with tf.Session() as sess:\n",
    "    init.run()\n",
    "    for epoch in range(n_epochs):\n",
    "        n_batches = mnist.train.num_examples // batch_size\n",
    "        for iteration in range(n_batches):\n",
    "            print(\"\\r{}%\".format(100 * iteration // n_batches), end=\"\")\n",
    "            sys.stdout.flush()\n",
    "            X_batch, y_batch = mnist.train.next_batch(batch_size)\n",
    "            sess.run(training_op, feed_dict={X: X_batch})\n",
    "        loss_train = reconstruction_loss.eval(feed_dict={X: X_batch})\n",
    "        print(\"\\r{}\".format(epoch), \"Train MSE:\", loss_train)\n",
    "        saver.save(sess, \"./AutoEncoderTiedWeights.ckpt\")\n",
    "            "
   ]
  },
  {
   "cell_type": "code",
   "execution_count": 44,
   "metadata": {},
   "outputs": [
    {
     "name": "stdout",
     "output_type": "stream",
     "text": [
      "INFO:tensorflow:Restoring parameters from ./AutoEncoderTiedWeights.ckpt\n"
     ]
    },
    {
     "data": {
      "image/png": "[encoded data removed]",
      "text/plain": [
       "<Figure size 576x432 with 4 Axes>"
      ]
     },
     "metadata": {},
     "output_type": "display_data"
    }
   ],
   "source": [
    "show_reconstructed_digits(X, outputs, \"./AutoEncoderTiedWeights.ckpt\")"
   ]
  },
  {
   "cell_type": "code",
   "execution_count": 49,
   "metadata": {},
   "outputs": [],
   "source": [
    "#training Autoencoders piece by piece (ie. training the an autoencoder with just one hidden and input + output, \n",
    "#then using the data from the hidden as the in put for another autoencoder with the same structure)\n",
    "\n",
    "#using multiple graphs\n",
    "reset_graph()\n",
    "\n",
    "from functools import partial \n",
    "\n",
    "def train_autoencoder(X_train, n_neurons, n_epochs, batch_size, learning_rate= 0.01, l2_reg= 0.0005, seed=42,\n",
    "                      hidden_activation=tf.nn.elu, output_activation=tf.nn.elu):\n",
    "    graph = tf.Graph()\n",
    "    with graph.as_default():\n",
    "        \n",
    "        tf.set_random_seed(seed)\n",
    "        n_inputs = X_train.shape[1]\n",
    "        \n",
    "        X=tf.placeholder(tf.float32, shape=[None, n_inputs])\n",
    "        \n",
    "        dense_layer = partial(tf.layers.dense, kernel_initializer=tf.contrib.layers.variance_scaling_initializer(),\n",
    "                             kernel_regularizer=tf.contrib.layers.l2_regularizer(l2_reg))\n",
    "        \n",
    "        hidden = dense_layer(X, n_neurons, activation=hidden_activation, name=\"hidden\")\n",
    "        outputs = dense_layer(hidden, n_inputs, activation=output_activation, name=\"outputs\")\n",
    "        \n",
    "        reconstruction_loss = tf.reduce_mean(tf.square(outputs - X))\n",
    "        reg_loss = tf.get_collection(tf.GraphKeys.REGULARIZATION_LOSSES)\n",
    "        loss = tf.add_n([reconstruction_loss] + reg_loss)\n",
    "        \n",
    "        optimizer = tf.train.AdamOptimizer(learning_rate)\n",
    "        training_op = optimizer.minimize(loss)\n",
    "        \n",
    "        init = tf.global_variables_initializer()\n",
    "    with tf.Session(graph=graph) as sess:\n",
    "        init.run()\n",
    "        for epoch in range(n_epochs):\n",
    "            n_batches = len(X_train) // batch_size\n",
    "            for iteration in range(n_batches):\n",
    "                print(\"\\r{}%\".format(100 * iteration // n_batches), end=\"\")\n",
    "                sys.stdout.flush()\n",
    "                indices = rnd.permutation(len(X_train))[:batch_size]\n",
    "                X_batch = X_train[indices]\n",
    "                sess.run(training_op, feed_dict={X: X_batch})\n",
    "            loss_train = reconstruction_loss.eval(feed_dict={X: X_batch})\n",
    "            print(\"\\r{}\".format(epoch), \"Train Mse:\", loss_train)\n",
    "        params = dict([(var.name, var.eval()) for var in tf.get_collection(tf.GraphKeys.TRAINABLE_VARIABLES)])\n",
    "        hidden_val = hidden.eval(feed_dict={X: X_batch})\n",
    "        return hidden_val, params[\"hidden/kernel:0\"], params[\"hidden/bias:0\"], params[\"outputs/kernel:0\"], params[\"outputs/bias:0\"]"
   ]
  },
  {
   "cell_type": "code",
   "execution_count": 50,
   "metadata": {},
   "outputs": [
    {
     "name": "stdout",
     "output_type": "stream",
     "text": [
      "0 Train Mse: 0.01912159\n",
      "1 Train Mse: 0.018708097\n",
      "2 Train Mse: 0.019261027\n",
      "3 Train Mse: 0.01967298\n",
      "4 Train Mse: 0.019353429\n"
     ]
    }
   ],
   "source": [
    "#exterior layers (takes original dataset as input)\n",
    "hidden_output, W1, b1, W4, b4 = train_autoencoder(mnist.train.images, n_neurons=300, n_epochs=5, batch_size=150, output_activation=None)"
   ]
  },
  {
   "cell_type": "code",
   "execution_count": 51,
   "metadata": {},
   "outputs": [
    {
     "name": "stdout",
     "output_type": "stream",
     "text": [
      "0 Train Mse: 0.20882949\n",
      "1 Train Mse: 0.13271101\n",
      "2 Train Mse: 0.093922116\n",
      "3 Train Mse: 0.072260156\n",
      "4 Train Mse: 0.058027912\n"
     ]
    }
   ],
   "source": [
    "#interior layers (takes hidden1 as input)\n",
    "\n",
    "_, W2, b2, W3, b3 = train_autoencoder(hidden_output, n_neurons=150, n_epochs=5, batch_size=150)"
   ]
  },
  {
   "cell_type": "code",
   "execution_count": 52,
   "metadata": {},
   "outputs": [],
   "source": [
    "#create full autoencoder by using the weights and biases just trained\n",
    "reset_graph()\n",
    "\n",
    "n_inputs = 28*28\n",
    "\n",
    "X = tf.placeholder(tf.float32, shape=[None, n_inputs])\n",
    "hidden1 = tf.nn.elu(tf.matmul(X, W1) + b1)\n",
    "hidden2 = tf.nn.elu(tf.matmul(hidden1, W2) + b2)\n",
    "hidden3 = tf.nn.elu(tf.matmul(hidden2, W3) + b3)\n",
    "outputs = tf.matmul(hidden3, W4) + b4"
   ]
  },
  {
   "cell_type": "code",
   "execution_count": 53,
   "metadata": {},
   "outputs": [
    {
     "data": {
      "image/png": "[encoded data removed]",
      "text/plain": [
       "<Figure size 576x432 with 4 Axes>"
      ]
     },
     "metadata": {},
     "output_type": "display_data"
    }
   ],
   "source": [
    "show_reconstructed_digits(X, outputs)"
   ]
  },
  {
   "cell_type": "code",
   "execution_count": 54,
   "metadata": {},
   "outputs": [],
   "source": [
    "#training piece by piece using only 1 graph \n",
    "reset_graph()\n",
    "\n",
    "n_inputs = 28 * 28\n",
    "n_hidden1 = 300\n",
    "n_hidden2 = 150  # codings\n",
    "n_hidden3 = n_hidden1\n",
    "n_outputs = n_inputs\n",
    "\n",
    "learning_rate = 0.01\n",
    "l2_reg = 0.0001\n",
    "\n",
    "activation = tf.nn.elu\n",
    "regularizer = tf.contrib.layers.l2_regularizer(l2_reg)\n",
    "initializer = tf.contrib.layers.variance_scaling_initializer()\n",
    "\n",
    "X = tf.placeholder(tf.float32, shape=[None, n_inputs])\n",
    "\n",
    "weights1_init = initializer([n_inputs, n_hidden1])\n",
    "weights2_init = initializer([n_hidden1, n_hidden2])\n",
    "weights3_init = initializer([n_hidden2, n_hidden3])\n",
    "weights4_init = initializer([n_hidden3, n_outputs])\n",
    "\n",
    "weights1 = tf.Variable(weights1_init, dtype=tf.float32, name=\"weights1\")\n",
    "weights2 = tf.Variable(weights2_init, dtype=tf.float32, name=\"weights2\")\n",
    "weights3 = tf.Variable(weights3_init, dtype=tf.float32, name=\"weights3\")\n",
    "weights4 = tf.Variable(weights4_init, dtype=tf.float32, name=\"weights4\")\n",
    "\n",
    "biases1 = tf.Variable(tf.zeros(n_hidden1), name=\"biases1\")\n",
    "biases2 = tf.Variable(tf.zeros(n_hidden2), name=\"biases2\")\n",
    "biases3 = tf.Variable(tf.zeros(n_hidden3), name=\"biases3\")\n",
    "biases4 = tf.Variable(tf.zeros(n_outputs), name=\"biases4\")\n",
    "\n",
    "hidden1 = activation(tf.matmul(X, weights1) + biases1)\n",
    "hidden2 = activation(tf.matmul(hidden1, weights2) + biases2)\n",
    "hidden3 = activation(tf.matmul(hidden2, weights3) + biases3)\n",
    "outputs = tf.matmul(hidden3, weights4) + biases4\n",
    "\n",
    "reconstruction_loss = tf.reduce_mean(tf.square(outputs - X))\n",
    "\n",
    "optimizer = tf.train.AdamOptimizer(learning_rate)\n"
   ]
  },
  {
   "cell_type": "code",
   "execution_count": 55,
   "metadata": {},
   "outputs": [],
   "source": [
    "#training phases that act like the two seperate graphs from last net\n",
    "with tf.name_scope(\"phase1\"):\n",
    "    phase1_outputs = tf.matmul(hidden1, weights4) + biases4\n",
    "    phase1_recon_loss = tf.reduce_mean(tf.square(phase1_outputs - X))\n",
    "    phase1_reg_loss = regularizer(weights1) + regularizer(weights4)\n",
    "    phase1_loss = phase1_recon_loss + phase1_reg_loss\n",
    "    phase1_training_op = optimizer.minimize(phase1_loss)\n",
    "    \n",
    "with tf.name_scope(\"phase2\"):\n",
    "    phase2_recon_loss = tf.reduce_mean(tf.square(hidden3 - hidden1))\n",
    "    phase2_reg_loss = regularizer(weights2) + regularizer(weights3)\n",
    "    phase2_loss = phase2_recon_loss + phase2_reg_loss\n",
    "    train_vars = [weights2, biases2, weights3, biases3]\n",
    "    phase2_training_op = optimizer.minimize(phase2_loss, var_list = train_vars)\n",
    "    "
   ]
  },
  {
   "cell_type": "code",
   "execution_count": 58,
   "metadata": {},
   "outputs": [],
   "source": [
    "init = tf.global_variables_initializer()\n",
    "saver = tf.train.Saver()\n",
    "training_ops = [phase1_training_op, phase2_training_op]\n",
    "reconstruction_losses = [phase1_recon_loss, phase2_recon_loss]\n",
    "n_epochs = [5, 5]\n",
    "batch_sizes = [150, 150]"
   ]
  },
  {
   "cell_type": "code",
   "execution_count": 60,
   "metadata": {},
   "outputs": [
    {
     "name": "stdout",
     "output_type": "stream",
     "text": [
      "training phase #1\n",
      "0 train mse: 0.0074308594\n",
      "1 train mse: 0.00803159\n",
      "2 train mse: 0.007537833\n",
      "3 train mse: 0.007623723\n",
      "4 train mse: 0.007917441\n",
      "training phase #2\n",
      "0 train mse: 0.03210683\n",
      "1 train mse: 0.0031614855\n",
      "2 train mse: 0.0022429542\n",
      "3 train mse: 0.0018942725\n",
      "4 train mse: 0.0018177711\n",
      "test mse: 0.009885036\n"
     ]
    }
   ],
   "source": [
    "with tf.Session() as sess: \n",
    "    init.run()\n",
    "    for phase in range(2):\n",
    "        print(\"training phase #{}\".format(phase + 1))\n",
    "        for epoch in range (n_epochs[phase]):\n",
    "            n_batches = mnist.train.num_examples // batch_sizes[phase]\n",
    "            for iteration in range(n_batches):\n",
    "                print(\"\\r{}%\".format(100 * iteration // n_batches), end=\"\")\n",
    "                sys.stdout.flush()\n",
    "                X_batch, y_batch = mnist.train.next_batch(batch_sizes[phase])\n",
    "                sess.run(training_ops[phase], feed_dict={X: X_batch})\n",
    "            loss_train = reconstruction_losses[phase].eval(feed_dict={X:X_batch})\n",
    "            print(\"\\r{}\".format(epoch), \"train mse:\", loss_train)\n",
    "            saver.save(sess, \"./AutoEncoder_1G_PieceBy.ckpt\")\n",
    "    loss_test = reconstruction_loss.eval(feed_dict={X: mnist.test.images})\n",
    "    print(\"test mse:\", loss_test)"
   ]
  },
  {
   "cell_type": "code",
   "execution_count": 61,
   "metadata": {},
   "outputs": [],
   "source": [
    "file_writer= tf.summary.FileWriter(\"tf_logs/AutoEncoder_1G_P\", tf.get_default_graph())"
   ]
  },
  {
   "cell_type": "code",
   "execution_count": 68,
   "metadata": {},
   "outputs": [
    {
     "name": "stdout",
     "output_type": "stream",
     "text": [
      "Training phase #1\n",
      "0 Train MSE: 0.007569033\n",
      "1 Train MSE: 0.0076020216\n",
      "2 Train MSE: 0.007828681\n",
      "3 Train MSE: 0.00776155\n",
      "Training phase #2\n",
      "0 Train MSE: 0.19458014\n",
      "1 Train MSE: 0.003761015\n",
      "2 Train MSE: 0.002491628\n",
      "3 Train MSE: 0.0019988513\n",
      "Test MSE: 0.009696062\n"
     ]
    }
   ],
   "source": [
    "training_ops = [phase1_training_op, phase2_training_op]\n",
    "reconstruction_losses = [phase1_recon_loss, phase2_recon_loss]\n",
    "n_epochs = [4, 4]\n",
    "batch_sizes = [150, 150]\n",
    "\n",
    "with tf.Session() as sess:\n",
    "    init.run()\n",
    "    for phase in range(2):\n",
    "        print(\"Training phase #{}\".format(phase + 1))\n",
    "        if phase == 1:\n",
    "            hidden1_cache = hidden1.eval(feed_dict={X: mnist.train.images})\n",
    "        for epoch in range(n_epochs[phase]):\n",
    "            n_batches = mnist.train.num_examples // batch_sizes[phase]\n",
    "            for iteration in range(n_batches):\n",
    "                print(\"\\r{}%\".format(100 * iteration // n_batches), end=\"\")\n",
    "                sys.stdout.flush()\n",
    "                if phase == 1:\n",
    "                    indices = rnd.permutation(mnist.train.num_examples)\n",
    "                    hidden1_batch = hidden1_cache[indices[:batch_sizes[phase]]]\n",
    "                    feed_dict = {hidden1: hidden1_batch}\n",
    "                    sess.run(training_ops[phase], feed_dict=feed_dict)\n",
    "                else:\n",
    "                    X_batch, y_batch = mnist.train.next_batch(batch_sizes[phase])\n",
    "                    feed_dict = {X: X_batch}\n",
    "                    sess.run(training_ops[phase], feed_dict=feed_dict)\n",
    "            loss_train = reconstruction_losses[phase].eval(feed_dict=feed_dict)\n",
    "            print(\"\\r{}\".format(epoch), \"Train MSE:\", loss_train)\n",
    "            saver.save(sess, \"./Auto_1G_cache_frozen.ckpt\")\n",
    "    loss_test = reconstruction_loss.eval(feed_dict={X: mnist.test.images})\n",
    "    print(\"Test MSE:\", loss_test)"
   ]
  },
  {
   "cell_type": "code",
   "execution_count": 64,
   "metadata": {},
   "outputs": [
    {
     "name": "stdout",
     "output_type": "stream",
     "text": [
      "INFO:tensorflow:Restoring parameters from ./AutoEncoder_1G_PieceBy.ckpt\n"
     ]
    },
    {
     "data": {
      "image/png": "[encoded data removed]",
      "text/plain": [
       "<Figure size 432x288 with 20 Axes>"
      ]
     },
     "metadata": {},
     "output_type": "display_data"
    }
   ],
   "source": [
    "#visualizing some reconstructions\n",
    "n_test_digits=10\n",
    "X_test = mnist.test.images[:n_test_digits]\n",
    "\n",
    "with tf.Session() as sess:\n",
    "    saver.restore(sess, \"./AutoEncoder_1G_PieceBy.ckpt\")\n",
    "    outputs_val = outputs.eval(feed_dict={X: X_test})\n",
    "\n",
    "def plot_image(image, shape=[28, 28]):\n",
    "    plt.imshow(image.reshape(shape), cmap=\"Greys\", interpolation=\"nearest\")\n",
    "    plt.axis(\"off\")\n",
    "\n",
    "for digit_index in range(n_test_digits):\n",
    "    plt.subplot(n_test_digits, 2, digit_index * 2 + 1)\n",
    "    plot_image(X_test[digit_index])\n",
    "    plt.subplot(n_test_digits, 2, digit_index * 2 + 2)\n",
    "    plot_image(outputs_val[digit_index])"
   ]
  },
  {
   "cell_type": "code",
   "execution_count": 66,
   "metadata": {},
   "outputs": [
    {
     "name": "stdout",
     "output_type": "stream",
     "text": [
      "INFO:tensorflow:Restoring parameters from ./AutoEncoder_1G_PieceBy.ckpt\n"
     ]
    },
    {
     "data": {
      "image/png": "[encoded data removed]",
      "text/plain": [
       "<Figure size 432x288 with 10 Axes>"
      ]
     },
     "metadata": {},
     "output_type": "display_data"
    }
   ],
   "source": [
    "with tf.Session() as sess:\n",
    "    saver.restore(sess, \"./AutoEncoder_1G_PieceBy.ckpt\")\n",
    "    weights1_val = weights1.eval()\n",
    "    \n",
    "for i in range(10):\n",
    "    plt.subplot(1, 10, i + 1)\n",
    "    plot_image(weights1_val.T[i])\n",
    "    \n",
    "plt.show()\n",
    "    "
   ]
  },
  {
   "cell_type": "code",
   "execution_count": 71,
   "metadata": {},
   "outputs": [],
   "source": [
    "#unsupervised pretraining for classification\n",
    "\n",
    "reset_graph()\n",
    "\n",
    "n_inputs = 28 * 28\n",
    "n_hidden1 = 300 \n",
    "n_hidden2 = 150\n",
    "n_outputs = 10\n",
    "\n",
    "learning_rate = 0.01\n",
    "l2_reg = 0.0005\n",
    "\n",
    "activation = tf.nn.elu\n",
    "regularizer = tf.contrib.layers.l2_regularizer(l2_reg)\n",
    "initializer = tf.contrib.layers.variance_scaling_initializer()\n",
    "\n",
    "X=tf.placeholder(tf.float32, shape=[None, n_inputs])\n",
    "y= tf.placeholder(tf.int32, shape=[None])\n",
    "\n",
    "weights1_init = initializer([n_inputs, n_hidden1])\n",
    "weights2_init = initializer([n_hidden1, n_hidden2])\n",
    "weights3_init = initializer([n_hidden2, n_outputs])\n",
    "\n",
    "weights1 = tf.Variable(weights1_init, dtype=tf.float32, name=\"weights1\")\n",
    "weights2 = tf.Variable(weights2_init, dtype=tf.float32, name=\"weights2\")\n",
    "weights3 = tf.Variable(weights3_init, dtype=tf.float32, name=\"weights3\")\n",
    "\n",
    "biases1 = tf.Variable(tf.zeros(n_hidden1), name=\"biases1\")\n",
    "biases2 = tf.Variable(tf.zeros(n_hidden2), name=\"biases2\")\n",
    "biases3 = tf.Variable(tf.zeros(n_outputs), name=\"biases3\")\n",
    "\n",
    "hidden1 = activation(tf.matmul(X, weights1) + biases1)\n",
    "hidden2 = activation(tf.matmul(hidden1, weights2) + biases2)\n",
    "logits = tf.matmul(hidden2, weights3) + biases3\n",
    "\n",
    "cross_entropy = tf.nn.sparse_softmax_cross_entropy_with_logits(labels=y, logits=logits)\n",
    "reg_loss = regularizer(weights1) + regularizer(weights2) + regularizer(weights3)\n",
    "loss = cross_entropy + reg_loss\n",
    "optimizer = tf.train.AdamOptimizer(learning_rate)\n",
    "training_op = optimizer.minimize(loss)\n",
    "\n",
    "correct = tf.nn.in_top_k(logits, y, 1)\n",
    "accuracy = tf.reduce_mean(tf.cast(correct, tf.float32))\n",
    "\n",
    "init = tf.global_variables_initializer()\n",
    "pretrain_saver = tf.train.Saver([weights1, weights2, biases1, biases2])\n",
    "saver = tf.train.Saver()"
   ]
  },
  {
   "cell_type": "code",
   "execution_count": 75,
   "metadata": {},
   "outputs": [
    {
     "name": "stdout",
     "output_type": "stream",
     "text": [
      "INFO:tensorflow:Restoring parameters from ./Auto_1G_cache_frozen.ckpt\n",
      "0 Train accuracy: 0.9\ttest acc 0.8932\n",
      "1 Train accuracy: 0.9066667\ttest acc 0.9029\n",
      "2 Train accuracy: 0.92\ttest acc 0.9038\n",
      "3 Train accuracy: 0.9266667\ttest acc 0.9088\n",
      "4 Train accuracy: 0.92\ttest acc 0.9075\n",
      "5 Train accuracy: 0.9066667\ttest acc 0.9109\n",
      "6 Train accuracy: 0.93333334\ttest acc 0.9108\n",
      "7 Train accuracy: 0.9\ttest acc 0.9104\n",
      "8 Train accuracy: 0.91333336\ttest acc 0.9129\n",
      "9 Train accuracy: 0.9066667\ttest acc 0.9131\n"
     ]
    }
   ],
   "source": [
    "#training reusing pretrained/ cached layers\n",
    "n_epochs=10\n",
    "batch_size = 150 \n",
    "n_labeled_instances=20000\n",
    "\n",
    "training_op = optimizer.minimize(loss, var_list=[weights3, biases3]) #freeze pretrained layers (1 and 2)\n",
    "\n",
    "with tf.Session() as sess: \n",
    "    init.run()\n",
    "    pretrain_saver.restore(sess, \"./Auto_1G_cache_frozen.ckpt\" )\n",
    "    for epoch in range(n_epochs):\n",
    "        n_batches = n_labeled_instances // batch_size\n",
    "        for iteration in range(n_batches):\n",
    "            print(\"\\r{}%\".format(100 * iteration // n_batches), end=\"\")\n",
    "            sys.stdout.flush()\n",
    "            indices = rnd.permutation(n_labeled_instances)[:batch_size]\n",
    "            X_batch, y_batch = mnist.train.images[indices], mnist.train.labels[indices]\n",
    "            sess.run(training_op, feed_dict={X: X_batch, y: y_batch})\n",
    "        accuracy_val = accuracy.eval(feed_dict={X: X_batch, y: y_batch})\n",
    "        print(\"\\r{}\".format(epoch), \"Train accuracy:\", accuracy_val, end=\"\\t\")\n",
    "        accuracy_val = accuracy.eval(feed_dict={X: mnist.test.images, y: mnist.test.labels})\n",
    "        print(\"test acc\", accuracy_val)"
   ]
  },
  {
   "cell_type": "code",
   "execution_count": 80,
   "metadata": {},
   "outputs": [],
   "source": [
    "#using a stacked autoencoder as a denoiser \n",
    "reset_graph()\n",
    "\n",
    "\n",
    "n_inputs = 28 * 28\n",
    "n_hidden1 = 300\n",
    "n_hidden2 = 150  # codings\n",
    "n_hidden3 = n_hidden1\n",
    "n_outputs = n_inputs\n",
    "\n",
    "learning_rate = 0.01\n",
    "\n",
    "#dropout \n",
    "\n",
    "dropout_rate = 0.3\n",
    "\n",
    "training = tf.placeholder_with_default(False, shape=(), name='training')\n",
    "\n",
    "X = tf.placeholder(tf.float32, shape=[None, n_inputs])\n",
    "X_drop = tf.layers.dropout(X, dropout_rate, training=training)\n",
    "\n",
    "\n",
    "#adding gaussian noise\n",
    "#noise_level = 1.0\n",
    "\n",
    "#X = tf.placeholder(tf.float32, shape=[None, n_inputs])\n",
    "#adding some noise to data to demostrate denoising\n",
    "#X_noisy = X + noise_level * tf.random_normal(tf.shape(X))\n",
    "\n",
    "hidden1 = tf.layers.dense(X_drop, n_hidden1, activation=tf.nn.relu, name=\"hidden1\")\n",
    "hidden2 = tf.layers.dense(hidden1, n_hidden2, activation=tf.nn.relu, name=\"hidden2\")\n",
    "hidden3 = tf.layers.dense(hidden2, n_hidden2, activation=tf.nn.relu, name=\"hidden3\")\n",
    "outputs = tf.layers.dense(hidden3, n_outputs, activation=tf.nn.relu, name=\"outputs\")\n",
    "\n",
    "recon_loss = tf.reduce_mean(tf.square(outputs - X))\n",
    "\n",
    "optimizer = tf.train.AdamOptimizer(learning_rate)\n",
    "training_op = optimizer.minimize(recon_loss)\n",
    "\n",
    "init = tf.global_variables_initializer()\n",
    "saver = tf.train.Saver()\n",
    "\n",
    "n_epochs = 10\n",
    "batch_size = 150\n"
   ]
  },
  {
   "cell_type": "code",
   "execution_count": 81,
   "metadata": {},
   "outputs": [
    {
     "name": "stdout",
     "output_type": "stream",
     "text": [
      "0 Train MSE: 0.023665417\n",
      "1 Train MSE: 0.019810345\n",
      "2 Train MSE: 0.020515598\n",
      "3 Train MSE: 0.01928169\n",
      "4 Train MSE: 0.019746142\n",
      "5 Train MSE: 0.017727878\n",
      "6 Train MSE: 0.020024894\n",
      "7 Train MSE: 0.019440617\n",
      "8 Train MSE: 0.019204002\n",
      "9 Train MSE: 0.019257396\n"
     ]
    }
   ],
   "source": [
    "with tf.Session() as sess:\n",
    "    init.run()\n",
    "    for epoch in range(n_epochs):\n",
    "        n_batches = mnist.train.num_examples // batch_size\n",
    "        for iteration in range(n_batches):\n",
    "            print(\"\\r{}%\".format(100 * iteration // n_batches), end=\"\")\n",
    "            sys.stdout.flush()\n",
    "            X_batch, y_batch = mnist.train.next_batch(batch_size)\n",
    "            sess.run(training_op, feed_dict={X: X_batch})\n",
    "        loss_train = recon_loss.eval(feed_dict={X: X_batch})\n",
    "        print(\"\\r{}\".format(epoch), \"Train MSE:\", loss_train)"
   ]
  },
  {
   "cell_type": "code",
   "execution_count": 83,
   "metadata": {},
   "outputs": [
    {
     "data": {
      "text/plain": [
       "[0, 1, 0, 0.95]"
      ]
     },
     "execution_count": 83,
     "metadata": {},
     "output_type": "execute_result"
    },
    {
     "data": {
      "image/png": "[encoded data removed]",
      "text/plain": [
       "<Figure size 432x288 with 1 Axes>"
      ]
     },
     "metadata": {},
     "output_type": "display_data"
    }
   ],
   "source": [
    "#keeping your autoencoder sparse (learns more important features, reduces overfitting)\n",
    "p = 0.1\n",
    "q = np.linspace(0.001, 0.999, 500)\n",
    "kl_div = p * np.log(p / q) + (1 - p) * np.log((1 - p) / (1 - q))\n",
    "mse = (p - q)**2\n",
    "plt.plot([p, p], [0, 0.3], \"k:\")\n",
    "plt.text(0.05, 0.32, \"Target\\nsparsity\", fontsize=14)\n",
    "plt.plot(q, kl_div, \"b-\", label=\"KL divergence\")\n",
    "plt.plot(q, mse, \"r--\", label=\"MSE\")\n",
    "plt.legend(loc=\"upper left\")\n",
    "plt.xlabel(\"Actual sparsity\")\n",
    "plt.ylabel(\"Cost\", rotation=0)\n",
    "plt.axis([0, 1, 0, 0.95])"
   ]
  },
  {
   "cell_type": "code",
   "execution_count": 87,
   "metadata": {},
   "outputs": [],
   "source": [
    "reset_graph()\n",
    "\n",
    "n_inputs = 28 * 28\n",
    "n_hidden1 = 1000  # sparse codings\n",
    "n_outputs = n_inputs\n",
    "\n",
    "def kl_divergence(p, q):\n",
    "    #Kullback Leibler Divergence\n",
    "    return p * tf.log(p/q) + (1-p) * tf.log((1-p) / (1- q))\n",
    "\n",
    "learning_rate = 0.01\n",
    "sparsity_target = 0.1\n",
    "#weight too high = too sparse, learns no features. too low = not sparse enough \n",
    "sparsity_weight = 0.2\n",
    "\n",
    "X= tf.placeholder(tf.float32, shape=[None, n_inputs])\n",
    "\n",
    "#using sigmoid is crucial because activations must be between 0 and 1 (but not equal to)\n",
    "# or kullback-leibler divergence will return NaN\n",
    "hidden1 = tf.layers.dense(X, n_hidden1, activation=tf.nn.sigmoid)\n",
    "outputs = tf.layers.dense(hidden1, n_outputs)\n",
    "\n",
    "hidden1_mean= tf.reduce_mean(hidden1, axis=0) #batch mean\n",
    "sparsity_loss = tf.reduce_sum(kl_divergence(sparsity_target, hidden1_mean))\n",
    "recon_loss = tf.reduce_mean(tf.square(outputs - X)) #MSE\n",
    "loss = recon_loss + sparsity_weight * sparsity_loss\n",
    "\n",
    "optimizer = tf.train.AdamOptimizer(learning_rate)\n",
    "training_op = optimizer.minimize(loss)\n",
    "\n",
    "init = tf.global_variables_initializer()\n",
    "saver = tf.train.Saver()\n",
    "n_epochs = 100\n",
    "batch_size = 1000\n",
    "\n"
   ]
  },
  {
   "cell_type": "code",
   "execution_count": 88,
   "metadata": {},
   "outputs": [
    {
     "name": "stdout",
     "output_type": "stream",
     "text": [
      "0 Train MSE: 0.13508767 \tSparsity loss: 0.3811443 \tTotal loss: 0.21131653\n",
      "1 Train MSE: 0.05908208 \tSparsity loss: 0.029987127 \tTotal loss: 0.0650795\n",
      "2 Train MSE: 0.05126447 \tSparsity loss: 0.15392905 \tTotal loss: 0.08205028\n",
      "3 Train MSE: 0.049341507 \tSparsity loss: 0.26176748 \tTotal loss: 0.101695\n",
      "4 Train MSE: 0.04513889 \tSparsity loss: 0.06525828 \tTotal loss: 0.058190547\n",
      "5 Train MSE: 0.04129143 \tSparsity loss: 0.015824992 \tTotal loss: 0.04445643\n",
      "6 Train MSE: 0.03919443 \tSparsity loss: 0.13645639 \tTotal loss: 0.06648571\n",
      "7 Train MSE: 0.03641217 \tSparsity loss: 0.03638574 \tTotal loss: 0.043689318\n",
      "8 Train MSE: 0.03422003 \tSparsity loss: 0.07850471 \tTotal loss: 0.04992097\n",
      "9 Train MSE: 0.03011092 \tSparsity loss: 0.033096783 \tTotal loss: 0.036730275\n",
      "10 Train MSE: 0.027138721 \tSparsity loss: 0.01976406 \tTotal loss: 0.031091534\n",
      "11 Train MSE: 0.025142947 \tSparsity loss: 0.066904396 \tTotal loss: 0.038523827\n",
      "12 Train MSE: 0.023716083 \tSparsity loss: 0.0475564 \tTotal loss: 0.03322736\n",
      "13 Train MSE: 0.022747075 \tSparsity loss: 0.020494275 \tTotal loss: 0.02684593\n",
      "14 Train MSE: 0.020207815 \tSparsity loss: 0.0824048 \tTotal loss: 0.036688775\n",
      "15 Train MSE: 0.01969013 \tSparsity loss: 0.019295836 \tTotal loss: 0.023549298\n",
      "16 Train MSE: 0.019526875 \tSparsity loss: 0.03342367 \tTotal loss: 0.026211608\n",
      "17 Train MSE: 0.018231748 \tSparsity loss: 0.022578103 \tTotal loss: 0.022747368\n",
      "18 Train MSE: 0.017900592 \tSparsity loss: 0.040239286 \tTotal loss: 0.02594845\n",
      "19 Train MSE: 0.017384369 \tSparsity loss: 0.09541538 \tTotal loss: 0.036467448\n",
      "20 Train MSE: 0.016893433 \tSparsity loss: 0.075847045 \tTotal loss: 0.032062843\n",
      "21 Train MSE: 0.01588715 \tSparsity loss: 0.04160273 \tTotal loss: 0.024207696\n",
      "22 Train MSE: 0.01501671 \tSparsity loss: 0.082761385 \tTotal loss: 0.03156899\n",
      "23 Train MSE: 0.01505434 \tSparsity loss: 0.041962504 \tTotal loss: 0.02344684\n",
      "24 Train MSE: 0.014949122 \tSparsity loss: 0.036355134 \tTotal loss: 0.02222015\n",
      "25 Train MSE: 0.015297176 \tSparsity loss: 0.080443785 \tTotal loss: 0.031385936\n",
      "26 Train MSE: 0.015389462 \tSparsity loss: 0.10544184 \tTotal loss: 0.03647783\n",
      "27 Train MSE: 0.014523253 \tSparsity loss: 0.08028244 \tTotal loss: 0.030579742\n",
      "28 Train MSE: 0.01468179 \tSparsity loss: 0.0996558 \tTotal loss: 0.03461295\n",
      "29 Train MSE: 0.013453075 \tSparsity loss: 0.14247745 \tTotal loss: 0.041948564\n",
      "30 Train MSE: 0.013922948 \tSparsity loss: 0.05675936 \tTotal loss: 0.02527482\n",
      "31 Train MSE: 0.014629843 \tSparsity loss: 0.07049523 \tTotal loss: 0.02872889\n",
      "32 Train MSE: 0.014661153 \tSparsity loss: 0.060339224 \tTotal loss: 0.026728999\n",
      "33 Train MSE: 0.013056292 \tSparsity loss: 0.072680056 \tTotal loss: 0.027592303\n",
      "34 Train MSE: 0.0135837 \tSparsity loss: 0.07980944 \tTotal loss: 0.02954559\n",
      "35 Train MSE: 0.013665286 \tSparsity loss: 0.050297346 \tTotal loss: 0.023724755\n",
      "36 Train MSE: 0.013719054 \tSparsity loss: 0.059565358 \tTotal loss: 0.025632124\n",
      "37 Train MSE: 0.012981023 \tSparsity loss: 0.05362049 \tTotal loss: 0.023705121\n",
      "38 Train MSE: 0.014195078 \tSparsity loss: 0.09345316 \tTotal loss: 0.03288571\n",
      "39 Train MSE: 0.012132018 \tSparsity loss: 0.04196947 \tTotal loss: 0.020525912\n",
      "40 Train MSE: 0.013612909 \tSparsity loss: 0.084589176 \tTotal loss: 0.030530745\n",
      "41 Train MSE: 0.013016228 \tSparsity loss: 0.118270725 \tTotal loss: 0.036670372\n",
      "42 Train MSE: 0.013373605 \tSparsity loss: 0.07344484 \tTotal loss: 0.028062575\n",
      "43 Train MSE: 0.012271611 \tSparsity loss: 0.05670812 \tTotal loss: 0.023613235\n",
      "44 Train MSE: 0.013906623 \tSparsity loss: 0.21354651 \tTotal loss: 0.056615926\n",
      "45 Train MSE: 0.013122569 \tSparsity loss: 0.06168641 \tTotal loss: 0.025459852\n",
      "46 Train MSE: 0.012729168 \tSparsity loss: 0.2016135 \tTotal loss: 0.05305187\n",
      "47 Train MSE: 0.012824924 \tSparsity loss: 0.17216972 \tTotal loss: 0.047258865\n",
      "48 Train MSE: 0.012574239 \tSparsity loss: 0.109309845 \tTotal loss: 0.034436207\n",
      "49 Train MSE: 0.011519641 \tSparsity loss: 0.20392641 \tTotal loss: 0.052304924\n",
      "50 Train MSE: 0.012475698 \tSparsity loss: 0.41638497 \tTotal loss: 0.09575269\n",
      "51 Train MSE: 0.01201902 \tSparsity loss: 0.08933243 \tTotal loss: 0.029885506\n",
      "52 Train MSE: 0.0120015545 \tSparsity loss: 0.19552138 \tTotal loss: 0.051105835\n",
      "53 Train MSE: 0.011902127 \tSparsity loss: 0.10815971 \tTotal loss: 0.033534072\n",
      "54 Train MSE: 0.011315683 \tSparsity loss: 0.10099837 \tTotal loss: 0.03151536\n",
      "55 Train MSE: 0.013204455 \tSparsity loss: 0.20380825 \tTotal loss: 0.053966105\n",
      "56 Train MSE: 0.011282181 \tSparsity loss: 0.0816343 \tTotal loss: 0.027609041\n",
      "57 Train MSE: 0.013040642 \tSparsity loss: 0.42705828 \tTotal loss: 0.0984523\n",
      "58 Train MSE: 0.01256134 \tSparsity loss: 0.38136044 \tTotal loss: 0.08883344\n",
      "59 Train MSE: 0.012005682 \tSparsity loss: 0.22909565 \tTotal loss: 0.057824813\n",
      "60 Train MSE: 0.014553582 \tSparsity loss: 0.5581397 \tTotal loss: 0.12618151\n",
      "61 Train MSE: 0.013154031 \tSparsity loss: 0.31902784 \tTotal loss: 0.0769596\n",
      "62 Train MSE: 0.012452515 \tSparsity loss: 0.27994597 \tTotal loss: 0.06844171\n",
      "63 Train MSE: 0.014959499 \tSparsity loss: 0.28856483 \tTotal loss: 0.07267247\n",
      "64 Train MSE: 0.012057075 \tSparsity loss: 0.119079664 \tTotal loss: 0.03587301\n",
      "65 Train MSE: 0.014840421 \tSparsity loss: 0.15547155 \tTotal loss: 0.045934733\n",
      "66 Train MSE: 0.011193559 \tSparsity loss: 0.3072217 \tTotal loss: 0.0726379\n",
      "67 Train MSE: 0.0118547315 \tSparsity loss: 0.3489589 \tTotal loss: 0.08164652\n",
      "68 Train MSE: 0.014087907 \tSparsity loss: 0.15882537 \tTotal loss: 0.04585298\n",
      "69 Train MSE: 0.011286891 \tSparsity loss: 0.10995849 \tTotal loss: 0.03327859\n",
      "70 Train MSE: 0.038173694 \tSparsity loss: 0.21582901 \tTotal loss: 0.08133949\n",
      "71 Train MSE: 0.013177045 \tSparsity loss: 0.20993873 \tTotal loss: 0.05516479\n",
      "72 Train MSE: 0.011629726 \tSparsity loss: 0.23296006 \tTotal loss: 0.05822174\n",
      "73 Train MSE: 0.01154686 \tSparsity loss: 0.13834265 \tTotal loss: 0.03921539\n",
      "74 Train MSE: 0.018623155 \tSparsity loss: 0.35422087 \tTotal loss: 0.08946733\n",
      "75 Train MSE: 0.013808771 \tSparsity loss: 0.114947975 \tTotal loss: 0.036798365\n",
      "76 Train MSE: 0.013415387 \tSparsity loss: 0.20133224 \tTotal loss: 0.053681836\n",
      "77 Train MSE: 0.014352382 \tSparsity loss: 0.21841174 \tTotal loss: 0.05803473\n",
      "78 Train MSE: 0.016004588 \tSparsity loss: 0.21554509 \tTotal loss: 0.059113607\n",
      "79 Train MSE: 0.014033387 \tSparsity loss: 0.39943764 \tTotal loss: 0.09392092\n",
      "80 Train MSE: 0.016596833 \tSparsity loss: 0.22102962 \tTotal loss: 0.060802758\n",
      "81 Train MSE: 0.016323598 \tSparsity loss: 0.18747342 \tTotal loss: 0.053818285\n",
      "82 Train MSE: 0.012323277 \tSparsity loss: 0.36770695 \tTotal loss: 0.08586467\n",
      "83 Train MSE: 0.03576214 \tSparsity loss: 0.47321078 \tTotal loss: 0.1304043\n",
      "84 Train MSE: 0.02284926 \tSparsity loss: 0.6998362 \tTotal loss: 0.16281651\n",
      "85 Train MSE: 0.013873311 \tSparsity loss: 0.33829072 \tTotal loss: 0.08153146\n",
      "86 Train MSE: 0.012703409 \tSparsity loss: 0.38751867 \tTotal loss: 0.090207145\n",
      "87 Train MSE: 0.055031348 \tSparsity loss: 1.1403255 \tTotal loss: 0.28309646\n",
      "88 Train MSE: 0.018924978 \tSparsity loss: 0.21981566 \tTotal loss: 0.06288811\n",
      "89 Train MSE: 0.017082866 \tSparsity loss: 0.2821225 \tTotal loss: 0.07350737\n",
      "90 Train MSE: 0.018857576 \tSparsity loss: 1.2941682 \tTotal loss: 0.27769122\n",
      "91 Train MSE: 0.022800433 \tSparsity loss: 0.46594554 \tTotal loss: 0.11598954\n",
      "92 Train MSE: 0.035806175 \tSparsity loss: 0.41900343 \tTotal loss: 0.11960687\n",
      "93 Train MSE: 0.019382369 \tSparsity loss: 0.26182175 \tTotal loss: 0.07174672\n",
      "94 Train MSE: 0.02458949 \tSparsity loss: 0.38591394 \tTotal loss: 0.10177228\n",
      "95 Train MSE: 0.02134697 \tSparsity loss: 0.19551931 \tTotal loss: 0.06045083\n",
      "96 Train MSE: 0.020628078 \tSparsity loss: 0.3864004 \tTotal loss: 0.09790816\n",
      "97 Train MSE: 0.018147338 \tSparsity loss: 1.6651199 \tTotal loss: 0.35117134\n",
      "98 Train MSE: 0.015972182 \tSparsity loss: 0.16060689 \tTotal loss: 0.04809356\n",
      "99 Train MSE: 0.015600562 \tSparsity loss: 0.15439366 \tTotal loss: 0.046479292\n"
     ]
    }
   ],
   "source": [
    "with tf.Session() as sess:\n",
    "    init.run()\n",
    "    for epoch in range(n_epochs):\n",
    "        n_batches = mnist.train.num_examples // batch_size\n",
    "        for iteration in range(n_batches):\n",
    "            print(\"\\r{}%\".format(100 * iteration // n_batches), end=\"\")\n",
    "            sys.stdout.flush()\n",
    "            X_batch, y_batch = mnist.train.next_batch(batch_size)\n",
    "            sess.run(training_op, feed_dict={X: X_batch})\n",
    "        reconstruction_loss_val, sparsity_loss_val, loss_val = sess.run([recon_loss, sparsity_loss, loss], feed_dict={X: X_batch})\n",
    "        print(\"\\r{}\".format(epoch), \"Train MSE:\", reconstruction_loss_val, \"\\tSparsity loss:\", sparsity_loss_val, \"\\tTotal loss:\", loss_val)"
   ]
  },
  {
   "cell_type": "code",
   "execution_count": 111,
   "metadata": {},
   "outputs": [],
   "source": [
    "#variational autoencoder\n",
    "#probabalistic autoencoder: outputs are partially determined by chance, even after training\n",
    "#can generate new instances that look like they came form the dataset\n",
    "#instead of directly producing a coding, a men coding and a standard deviation are produced\n",
    "# the actual coding is sampled from a gaussian distribution with the mean std. dev. produced\n",
    "\n",
    "reset_graph()\n",
    "\n",
    "from functools import partial\n",
    "\n",
    "n_inputs = 28 * 28\n",
    "n_hidden1 = 500\n",
    "n_hidden2 = 500\n",
    "n_hidden3 = 20 #codings\n",
    "n_hidden4 = n_hidden2\n",
    "n_hidden5 = n_hidden1\n",
    "n_outputs = n_inputs\n",
    "\n",
    "learning_rate= 0.001\n",
    "\n",
    "initializer = tf.contrib.layers.variance_scaling_initializer()\n",
    "\n",
    "dense_layer = partial(tf.layers.dense, activation=tf.nn.elu, kernel_initializer=initializer)\n",
    "X = tf.placeholder(tf.float32, [None, n_inputs])\n",
    "\n",
    "with tf.name_scope(\"Variational_autoencoder\"):\n",
    "    hidden1= dense_layer(X, n_hidden1)\n",
    "    hidden2= dense_layer(hidden1, n_hidden2)\n",
    "    hidden3_mean = dense_layer(hidden2, n_hidden3, activation=None)\n",
    "    hidden3_gamma = dense_layer(hidden2, n_hidden3, activation=None)\n",
    "    #hidden3_sigma = dense_layer(hidden2, n_hidden3, activation=None)\n",
    "    noise = tf.random_normal(tf.shape(hidden3_gamma), dtype=tf.float32)\n",
    "    hidden3 = hidden3_mean + hidden3_gamma * noise\n",
    "    hidden4 = dense_layer(hidden3, n_hidden4)\n",
    "    hidden5 = dense_layer(hidden4, n_hidden5)\n",
    "    logits = dense_layer(hidden5, n_outputs, activation=None)\n",
    "    outputs = tf.sigmoid(logits)\n",
    "    \n",
    "with tf.name_scope(\"loss\"):\n",
    "    xentropy = tf.nn.sigmoid_cross_entropy_with_logits(labels=X, logits=logits)\n",
    "    reconstruction_loss = tf.reduce_sum(xentropy)\n",
    "\n",
    "    #eps = 1e-10 # smoothing term to prevent computing log(0) (NaN)\n",
    "    #latent_loss = 0.5 * tf.reduce_sum(tf.square(hidden3_sigma) + tf.square(hidden3_mean) - 1 - tf.log(eps + tf.square(hidden3_sigma)))\n",
    "    \n",
    "    #latent loss that computes log(stddev^2) rather than just tddev\n",
    "    #speeds up convergence and makes it easier to capture sigmas of different scales\n",
    "    latent_loss = 0.5 * tf.reduce_sum(tf.exp(hidden3_gamma) + tf.square(hidden3_mean) - 1 - hidden3_gamma)\n",
    "    \n",
    "    loss = reconstruction_loss + latent_loss\n",
    "        \n",
    "with tf.name_scope(\"train\"):\n",
    "    optimizer = tf.train.AdamOptimizer(learning_rate=learning_rate)\n",
    "    training_op = optimizer.minimize(loss)\n",
    "    \n",
    "init = tf.global_variables_initializer()\n",
    "saver = tf.train.Saver()\n",
    "\n",
    "n_epochs = 50\n",
    "batch_size = 150\n",
    "    "
   ]
  },
  {
   "cell_type": "code",
   "execution_count": 112,
   "metadata": {},
   "outputs": [
    {
     "name": "stdout",
     "output_type": "stream",
     "text": [
      "0 Train total loss: 14505.454 \tReconstruction loss: 13869.736 \tLatent loss: 635.71765\n",
      "1 Train total loss: 12423.798 \tReconstruction loss: 11911.741 \tLatent loss: 512.0563\n",
      "2 Train total loss: 11737.649 \tReconstruction loss: 11314.842 \tLatent loss: 422.8077\n",
      "3 Train total loss: 11584.393 \tReconstruction loss: 11200.336 \tLatent loss: 384.05707\n",
      "4 Train total loss: 11807.73 \tReconstruction loss: 11447.514 \tLatent loss: 360.2165\n",
      "5 Train total loss: 10774.763 \tReconstruction loss: 10423.988 \tLatent loss: 350.77484\n",
      "6 Train total loss: 11084.633 \tReconstruction loss: 10770.99 \tLatent loss: 313.643\n",
      "7 Train total loss: 11022.707 \tReconstruction loss: 10713.914 \tLatent loss: 308.7932\n",
      "8 Train total loss: 11252.133 \tReconstruction loss: 10947.204 \tLatent loss: 304.92892\n",
      "9 Train total loss: 11133.772 \tReconstruction loss: 10837.295 \tLatent loss: 296.47766\n",
      "10 Train total loss: 10249.847 \tReconstruction loss: 9970.238 \tLatent loss: 279.60834\n",
      "11 Train total loss: 10308.118 \tReconstruction loss: 10023.476 \tLatent loss: 284.6428\n",
      "12 Train total loss: 10532.532 \tReconstruction loss: 10248.21 \tLatent loss: 284.32257\n",
      "13 Train total loss: 9991.821 \tReconstruction loss: 9713.262 \tLatent loss: 278.5594\n",
      "14 Train total loss: 10389.349 \tReconstruction loss: 10118.883 \tLatent loss: 270.46606\n",
      "15 Train total loss: 10401.443 \tReconstruction loss: 10123.344 \tLatent loss: 278.09946\n",
      "16 Train total loss: 10360.197 \tReconstruction loss: 10105.163 \tLatent loss: 255.03424\n",
      "17 Train total loss: 10275.612 \tReconstruction loss: 9988.816 \tLatent loss: 286.79626\n",
      "18 Train total loss: 10131.099 \tReconstruction loss: 9851.154 \tLatent loss: 279.944\n",
      "19 Train total loss: 10379.852 \tReconstruction loss: 10101.732 \tLatent loss: 278.11932\n",
      "20 Train total loss: 9973.422 \tReconstruction loss: 9696.755 \tLatent loss: 276.66672\n",
      "21 Train total loss: 9913.048 \tReconstruction loss: 9636.213 \tLatent loss: 276.83487\n",
      "22 Train total loss: 10522.32 \tReconstruction loss: 10248.844 \tLatent loss: 273.47662\n",
      "23 Train total loss: 9872.883 \tReconstruction loss: 9592.457 \tLatent loss: 280.42572\n",
      "24 Train total loss: 9928.699 \tReconstruction loss: 9662.26 \tLatent loss: 266.4395\n",
      "25 Train total loss: 9966.083 \tReconstruction loss: 9691.799 \tLatent loss: 274.28455\n",
      "26 Train total loss: 10490.84 \tReconstruction loss: 10216.21 \tLatent loss: 274.62982\n",
      "27 Train total loss: 9971.982 \tReconstruction loss: 9689.355 \tLatent loss: 282.6266\n",
      "28 Train total loss: 9784.436 \tReconstruction loss: 9510.174 \tLatent loss: 274.26123\n",
      "29 Train total loss: 10251.3955 \tReconstruction loss: 9979.081 \tLatent loss: 272.3144\n",
      "30 Train total loss: 10172.866 \tReconstruction loss: 9905.457 \tLatent loss: 267.40894\n",
      "31 Train total loss: 10109.638 \tReconstruction loss: 9843.103 \tLatent loss: 266.5352\n",
      "32 Train total loss: 9620.301 \tReconstruction loss: 9342.109 \tLatent loss: 278.1919\n",
      "33 Train total loss: 9662.306 \tReconstruction loss: 9394.457 \tLatent loss: 267.8484\n",
      "34 Train total loss: 9871.371 \tReconstruction loss: 9603.631 \tLatent loss: 267.74005\n",
      "35 Train total loss: 9122.082 \tReconstruction loss: 8868.65 \tLatent loss: 253.43193\n",
      "36 Train total loss: 10189.13 \tReconstruction loss: 9914.826 \tLatent loss: 274.3039\n",
      "37 Train total loss: 9651.894 \tReconstruction loss: 9384.155 \tLatent loss: 267.7387\n",
      "38 Train total loss: 9634.136 \tReconstruction loss: 9365.125 \tLatent loss: 269.011\n",
      "39 Train total loss: 9796.618 \tReconstruction loss: 9521.02 \tLatent loss: 275.5982\n",
      "40 Train total loss: 10045.719 \tReconstruction loss: 9772.775 \tLatent loss: 272.9431\n",
      "41 Train total loss: 10048.27 \tReconstruction loss: 9782.662 \tLatent loss: 265.6072\n",
      "42 Train total loss: 9669.924 \tReconstruction loss: 9391.572 \tLatent loss: 278.35196\n",
      "43 Train total loss: 9398.12 \tReconstruction loss: 9143.422 \tLatent loss: 254.69778\n",
      "44 Train total loss: 9589.536 \tReconstruction loss: 9333.186 \tLatent loss: 256.35016\n",
      "45 Train total loss: 9504.723 \tReconstruction loss: 9235.666 \tLatent loss: 269.05698\n",
      "46 Train total loss: 9412.579 \tReconstruction loss: 9143.414 \tLatent loss: 269.1653\n",
      "47 Train total loss: 9469.058 \tReconstruction loss: 9194.221 \tLatent loss: 274.83667\n",
      "48 Train total loss: 9558.469 \tReconstruction loss: 9279.516 \tLatent loss: 278.95358\n",
      "49 Train total loss: 9905.575 \tReconstruction loss: 9641.412 \tLatent loss: 264.16278\n"
     ]
    }
   ],
   "source": [
    "with tf.Session() as sess: \n",
    "    init.run()\n",
    "    for epoch in range(n_epochs):\n",
    "        n_batches = mnist.train.num_examples // batch_size\n",
    "        for iteration in range(n_batches):\n",
    "            print(\"\\r{}%\".format(100 * iteration // n_batches), end=\"\")\n",
    "            sys.stdout.flush()\n",
    "            X_batch, y_batch = mnist.train.next_batch(batch_size)\n",
    "            sess.run(training_op, feed_dict={X: X_batch})\n",
    "        loss_val, reconstruction_loss_val, latent_loss_val = sess.run([loss, reconstruction_loss, latent_loss], feed_dict={X: X_batch})\n",
    "        print(\"\\r{}\".format(epoch), \"Train total loss:\", loss_val, \"\\tReconstruction loss:\", reconstruction_loss_val, \"\\tLatent loss:\", latent_loss_val)\n",
    "        saver.save(sess, \"./Variational_auto.ckpt\")"
   ]
  },
  {
   "cell_type": "code",
   "execution_count": 117,
   "metadata": {},
   "outputs": [],
   "source": [
    "file_writer= tf.summary.FileWriter(\"tf_logs/AutoEncoder_Variational\", tf.get_default_graph())"
   ]
  },
  {
   "cell_type": "code",
   "execution_count": 114,
   "metadata": {},
   "outputs": [
    {
     "name": "stdout",
     "output_type": "stream",
     "text": [
      "INFO:tensorflow:Restoring parameters from ./Variational_auto.ckpt\n"
     ]
    }
   ],
   "source": [
    "\n",
    "import numpy as np\n",
    "\n",
    "n_digits = 60\n",
    "saver= tf.train.Saver()\n",
    "\n",
    "with tf.Session() as sess:\n",
    "    saver.restore(sess, \"./Variational_auto.ckpt\")\n",
    "    codings_rnd = np.random.normal(size=[n_digits, n_hidden3])\n",
    "    outputs_val = outputs.eval(feed_dict={hidden3: codings_rnd})\n"
   ]
  },
  {
   "cell_type": "code",
   "execution_count": 115,
   "metadata": {},
   "outputs": [
    {
     "data": {
      "image/png": "[encoded data removed]",
      "text/plain": [
       "<Figure size 576x3600 with 60 Axes>"
      ]
     },
     "metadata": {},
     "output_type": "display_data"
    }
   ],
   "source": [
    "plt.figure(figsize=(8,50)) # not shown in the book\n",
    "for iteration in range(n_digits):\n",
    "    plt.subplot(n_digits, 10, iteration + 1)\n",
    "    plot_image(outputs_val[iteration])"
   ]
  },
  {
   "cell_type": "code",
   "execution_count": 116,
   "metadata": {},
   "outputs": [
    {
     "data": {
      "image/png": "[encoded data removed]",
      "text/plain": [
       "<Figure size 432x288 with 1 Axes>"
      ]
     },
     "metadata": {},
     "output_type": "display_data"
    }
   ],
   "source": [
    "n_rows = 6\n",
    "n_cols = 10\n",
    "plot_multiple_images(outputs_val.reshape(-1, 28, 28), n_rows, n_cols)\n",
    "plt.show()\n"
   ]
  },
  {
   "cell_type": "code",
   "execution_count": null,
   "metadata": {},
   "outputs": [],
   "source": []
  }
 ],
 "metadata": {
  "kernelspec": {
   "display_name": "Python 3",
   "language": "python",
   "name": "python3"
  },
  "language_info": {
   "codemirror_mode": {
    "name": "ipython",
    "version": 3
   },
   "file_extension": ".py",
   "mimetype": "text/x-python",
   "name": "python",
   "nbconvert_exporter": "python",
   "pygments_lexer": "ipython3",
   "version": "3.6.5"
  }
 },
 "nbformat": 4,
 "nbformat_minor": 2
}
